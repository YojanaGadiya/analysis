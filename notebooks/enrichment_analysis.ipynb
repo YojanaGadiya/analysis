{
 "cells": [
  {
   "cell_type": "code",
   "execution_count": 1,
   "metadata": {},
   "outputs": [],
   "source": [
    "import pybel\n",
    "import pathway_forte\n",
    "import heme_knowledge\n",
    "from bio2bel_kegg.manager import Manager as KeggManager\n",
    "from bio2bel_reactome.manager import Manager as ReactomeManager\n",
    "from bio2bel_wikipathways.manager import Manager as WPManager"
   ]
  },
  {
   "cell_type": "code",
   "execution_count": 2,
   "metadata": {},
   "outputs": [],
   "source": [
    "from pathway_forte.pathway_enrichment.over_representation import perform_hypergeometric_test"
   ]
  },
  {
   "cell_type": "code",
   "execution_count": 3,
   "metadata": {},
   "outputs": [],
   "source": [
    "heme = heme_knowledge.get_graph()"
   ]
  },
  {
   "cell_type": "code",
   "execution_count": 4,
   "metadata": {},
   "outputs": [
    {
     "name": "stdout",
     "output_type": "stream",
     "text": [
      "Heme Curation v0.0.1-dev\n",
      "Number of Nodes: 764\n",
      "Number of Edges: 2999\n",
      "Number of Citations: 46\n",
      "Number of Authors: 330\n",
      "Network Density: 5.14E-03\n",
      "Number of Components: 10\n",
      "Number of Warnings: 0\n"
     ]
    }
   ],
   "source": [
    "heme.summarize()"
   ]
  },
  {
   "cell_type": "code",
   "execution_count": 5,
   "metadata": {},
   "outputs": [],
   "source": [
    "names = pybel.struct.summary.node_summary.get_names(heme)"
   ]
  },
  {
   "cell_type": "code",
   "execution_count": 6,
   "metadata": {},
   "outputs": [],
   "source": [
    "heme_geneset = names[\"HGNC\"]"
   ]
  },
  {
   "cell_type": "markdown",
   "metadata": {},
   "source": [
    "Getting pathway genesets out of the databases"
   ]
  },
  {
   "cell_type": "code",
   "execution_count": 7,
   "metadata": {},
   "outputs": [],
   "source": [
    "kegg_manager = KeggManager()\n",
    "reactome_manager = ReactomeManager()\n",
    "wp_manager = WPManager()"
   ]
  },
  {
   "cell_type": "code",
   "execution_count": 8,
   "metadata": {},
   "outputs": [],
   "source": [
    "kegg_gene_sets = kegg_manager.export_gene_sets()\n",
    "reactome_gene_sets = reactome_manager.export_gene_sets()\n",
    "wp_gene_sets = wp_manager.export_gene_sets()"
   ]
  },
  {
   "cell_type": "code",
   "execution_count": 9,
   "metadata": {},
   "outputs": [],
   "source": [
    "def preprocess_genesets(dictionary):\n",
    "    return {\n",
    "        (key, \"fake_id\"): value\n",
    "        for key, value in dictionary.items()\n",
    "        if len(value) < 200\n",
    "    }"
   ]
  },
  {
   "cell_type": "code",
   "execution_count": 10,
   "metadata": {},
   "outputs": [],
   "source": [
    "kegg_results = perform_hypergeometric_test(\n",
    "    heme_geneset, preprocess_genesets(kegg_gene_sets), apply_threshold=True\n",
    ")\n",
    "reactome_results = perform_hypergeometric_test(\n",
    "    heme_geneset, preprocess_genesets(reactome_gene_sets), apply_threshold=True\n",
    ")\n",
    "wp_results = perform_hypergeometric_test(\n",
    "    heme_geneset, preprocess_genesets(wp_gene_sets), apply_threshold=True\n",
    ")"
   ]
  },
  {
   "cell_type": "code",
   "execution_count": 11,
   "metadata": {},
   "outputs": [
    {
     "data": {
      "text/html": [
       "<div>\n",
       "<style scoped>\n",
       "    .dataframe tbody tr th:only-of-type {\n",
       "        vertical-align: middle;\n",
       "    }\n",
       "\n",
       "    .dataframe tbody tr th {\n",
       "        vertical-align: top;\n",
       "    }\n",
       "\n",
       "    .dataframe thead th {\n",
       "        text-align: right;\n",
       "    }\n",
       "</style>\n",
       "<table border=\"1\" class=\"dataframe\">\n",
       "  <thead>\n",
       "    <tr style=\"text-align: right;\">\n",
       "      <th></th>\n",
       "      <th>database</th>\n",
       "      <th>pathway_id</th>\n",
       "      <th>pval</th>\n",
       "      <th>qval</th>\n",
       "    </tr>\n",
       "  </thead>\n",
       "  <tbody>\n",
       "    <tr>\n",
       "      <th>264</th>\n",
       "      <td>fake_id</td>\n",
       "      <td>Malaria - Homo sapiens (human)</td>\n",
       "      <td>8.531881e-33</td>\n",
       "      <td>2.627819e-30</td>\n",
       "    </tr>\n",
       "    <tr>\n",
       "      <th>165</th>\n",
       "      <td>fake_id</td>\n",
       "      <td>Complement and coagulation cascades - Homo sap...</td>\n",
       "      <td>7.127936e-31</td>\n",
       "      <td>1.097702e-28</td>\n",
       "    </tr>\n",
       "    <tr>\n",
       "      <th>169</th>\n",
       "      <td>fake_id</td>\n",
       "      <td>Toll-like receptor signaling pathway - Homo sa...</td>\n",
       "      <td>1.533560e-30</td>\n",
       "      <td>1.574455e-28</td>\n",
       "    </tr>\n",
       "    <tr>\n",
       "      <th>272</th>\n",
       "      <td>fake_id</td>\n",
       "      <td>Influenza A - Homo sapiens (human)</td>\n",
       "      <td>5.425161e-28</td>\n",
       "      <td>4.177374e-26</td>\n",
       "    </tr>\n",
       "    <tr>\n",
       "      <th>259</th>\n",
       "      <td>fake_id</td>\n",
       "      <td>Pertussis - Homo sapiens (human)</td>\n",
       "      <td>6.368401e-27</td>\n",
       "      <td>3.922935e-25</td>\n",
       "    </tr>\n",
       "  </tbody>\n",
       "</table>\n",
       "</div>"
      ],
      "text/plain": [
       "    database                                         pathway_id          pval  \\\n",
       "264  fake_id                     Malaria - Homo sapiens (human)  8.531881e-33   \n",
       "165  fake_id  Complement and coagulation cascades - Homo sap...  7.127936e-31   \n",
       "169  fake_id  Toll-like receptor signaling pathway - Homo sa...  1.533560e-30   \n",
       "272  fake_id                 Influenza A - Homo sapiens (human)  5.425161e-28   \n",
       "259  fake_id                   Pertussis - Homo sapiens (human)  6.368401e-27   \n",
       "\n",
       "             qval  \n",
       "264  2.627819e-30  \n",
       "165  1.097702e-28  \n",
       "169  1.574455e-28  \n",
       "272  4.177374e-26  \n",
       "259  3.922935e-25  "
      ]
     },
     "execution_count": 11,
     "metadata": {},
     "output_type": "execute_result"
    }
   ],
   "source": [
    "kegg_results.sort_values(by=['qval'], ascending=True).head()"
   ]
  },
  {
   "cell_type": "code",
   "execution_count": 12,
   "metadata": {},
   "outputs": [
    {
     "data": {
      "text/html": [
       "<div>\n",
       "<style scoped>\n",
       "    .dataframe tbody tr th:only-of-type {\n",
       "        vertical-align: middle;\n",
       "    }\n",
       "\n",
       "    .dataframe tbody tr th {\n",
       "        vertical-align: top;\n",
       "    }\n",
       "\n",
       "    .dataframe thead th {\n",
       "        text-align: right;\n",
       "    }\n",
       "</style>\n",
       "<table border=\"1\" class=\"dataframe\">\n",
       "  <thead>\n",
       "    <tr style=\"text-align: right;\">\n",
       "      <th></th>\n",
       "      <th>database</th>\n",
       "      <th>pathway_id</th>\n",
       "      <th>pval</th>\n",
       "      <th>qval</th>\n",
       "    </tr>\n",
       "  </thead>\n",
       "  <tbody>\n",
       "    <tr>\n",
       "      <th>1963</th>\n",
       "      <td>fake_id</td>\n",
       "      <td>Toll-like Receptor Cascades</td>\n",
       "      <td>2.608813e-25</td>\n",
       "      <td>5.598512e-22</td>\n",
       "    </tr>\n",
       "    <tr>\n",
       "      <th>1385</th>\n",
       "      <td>fake_id</td>\n",
       "      <td>Platelet degranulation</td>\n",
       "      <td>4.949028e-23</td>\n",
       "      <td>5.310307e-20</td>\n",
       "    </tr>\n",
       "    <tr>\n",
       "      <th>1623</th>\n",
       "      <td>fake_id</td>\n",
       "      <td>Response to elevated platelet cytosolic Ca2+</td>\n",
       "      <td>9.399391e-23</td>\n",
       "      <td>6.723698e-20</td>\n",
       "    </tr>\n",
       "    <tr>\n",
       "      <th>738</th>\n",
       "      <td>fake_id</td>\n",
       "      <td>Formation of Fibrin Clot (Clotting Cascade)</td>\n",
       "      <td>2.120423e-20</td>\n",
       "      <td>1.137607e-17</td>\n",
       "    </tr>\n",
       "    <tr>\n",
       "      <th>1957</th>\n",
       "      <td>fake_id</td>\n",
       "      <td>Toll Like Receptor 4 (TLR4) Cascade</td>\n",
       "      <td>1.773519e-19</td>\n",
       "      <td>7.611943e-17</td>\n",
       "    </tr>\n",
       "  </tbody>\n",
       "</table>\n",
       "</div>"
      ],
      "text/plain": [
       "     database                                    pathway_id          pval  \\\n",
       "1963  fake_id                   Toll-like Receptor Cascades  2.608813e-25   \n",
       "1385  fake_id                        Platelet degranulation  4.949028e-23   \n",
       "1623  fake_id  Response to elevated platelet cytosolic Ca2+  9.399391e-23   \n",
       "738   fake_id   Formation of Fibrin Clot (Clotting Cascade)  2.120423e-20   \n",
       "1957  fake_id           Toll Like Receptor 4 (TLR4) Cascade  1.773519e-19   \n",
       "\n",
       "              qval  \n",
       "1963  5.598512e-22  \n",
       "1385  5.310307e-20  \n",
       "1623  6.723698e-20  \n",
       "738   1.137607e-17  \n",
       "1957  7.611943e-17  "
      ]
     },
     "execution_count": 12,
     "metadata": {},
     "output_type": "execute_result"
    }
   ],
   "source": [
    "reactome_results.sort_values(by=['qval'], ascending=True).head()"
   ]
  },
  {
   "cell_type": "code",
   "execution_count": 13,
   "metadata": {},
   "outputs": [
    {
     "data": {
      "text/html": [
       "<div>\n",
       "<style scoped>\n",
       "    .dataframe tbody tr th:only-of-type {\n",
       "        vertical-align: middle;\n",
       "    }\n",
       "\n",
       "    .dataframe tbody tr th {\n",
       "        vertical-align: top;\n",
       "    }\n",
       "\n",
       "    .dataframe thead th {\n",
       "        text-align: right;\n",
       "    }\n",
       "</style>\n",
       "<table border=\"1\" class=\"dataframe\">\n",
       "  <thead>\n",
       "    <tr style=\"text-align: right;\">\n",
       "      <th></th>\n",
       "      <th>database</th>\n",
       "      <th>pathway_id</th>\n",
       "      <th>pval</th>\n",
       "      <th>qval</th>\n",
       "    </tr>\n",
       "  </thead>\n",
       "  <tbody>\n",
       "    <tr>\n",
       "      <th>111</th>\n",
       "      <td>fake_id</td>\n",
       "      <td>Toll-like Receptor Signaling Pathway</td>\n",
       "      <td>1.533560e-30</td>\n",
       "      <td>7.913169e-28</td>\n",
       "    </tr>\n",
       "    <tr>\n",
       "      <th>247</th>\n",
       "      <td>fake_id</td>\n",
       "      <td>Regulation of toll-like receptor signaling pat...</td>\n",
       "      <td>1.694942e-29</td>\n",
       "      <td>4.372950e-27</td>\n",
       "    </tr>\n",
       "    <tr>\n",
       "      <th>270</th>\n",
       "      <td>fake_id</td>\n",
       "      <td>Human Complement System</td>\n",
       "      <td>6.260545e-29</td>\n",
       "      <td>1.076814e-26</td>\n",
       "    </tr>\n",
       "    <tr>\n",
       "      <th>341</th>\n",
       "      <td>fake_id</td>\n",
       "      <td>Complement and Coagulation Cascades</td>\n",
       "      <td>1.133983e-26</td>\n",
       "      <td>1.462838e-24</td>\n",
       "    </tr>\n",
       "    <tr>\n",
       "      <th>64</th>\n",
       "      <td>fake_id</td>\n",
       "      <td>Selenium Micronutrient Network</td>\n",
       "      <td>8.509793e-24</td>\n",
       "      <td>8.782107e-22</td>\n",
       "    </tr>\n",
       "  </tbody>\n",
       "</table>\n",
       "</div>"
      ],
      "text/plain": [
       "    database                                         pathway_id          pval  \\\n",
       "111  fake_id               Toll-like Receptor Signaling Pathway  1.533560e-30   \n",
       "247  fake_id  Regulation of toll-like receptor signaling pat...  1.694942e-29   \n",
       "270  fake_id                            Human Complement System  6.260545e-29   \n",
       "341  fake_id                Complement and Coagulation Cascades  1.133983e-26   \n",
       "64   fake_id                     Selenium Micronutrient Network  8.509793e-24   \n",
       "\n",
       "             qval  \n",
       "111  7.913169e-28  \n",
       "247  4.372950e-27  \n",
       "270  1.076814e-26  \n",
       "341  1.462838e-24  \n",
       "64   8.782107e-22  "
      ]
     },
     "execution_count": 13,
     "metadata": {},
     "output_type": "execute_result"
    }
   ],
   "source": [
    "wp_results.sort_values(by=['qval'], ascending=True).head()"
   ]
  },
  {
   "cell_type": "markdown",
   "metadata": {},
   "source": [
    "The results of the enrichment analysis highlight the Toll-like receptor signaling pathway. This pathway is the top enriched pathway in both Reactome and WikiPathways and the third one in KEGG."
   ]
  },
  {
   "cell_type": "code",
   "execution_count": null,
   "metadata": {},
   "outputs": [],
   "source": []
  }
 ],
 "metadata": {
  "kernelspec": {
   "display_name": "Python 3",
   "language": "python",
   "name": "python3"
  },
  "language_info": {
   "codemirror_mode": {
    "name": "ipython",
    "version": 3
   },
   "file_extension": ".py",
   "mimetype": "text/x-python",
   "name": "python",
   "nbconvert_exporter": "python",
   "pygments_lexer": "ipython3",
   "version": "3.6.5"
  }
 },
 "nbformat": 4,
 "nbformat_minor": 2
}
