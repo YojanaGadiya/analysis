{
 "cells": [
  {
   "cell_type": "markdown",
   "metadata": {
    "pycharm": {}
   },
   "source": [
    "# Pathways overlap\n",
    "\n",
    "Get the pathways database edge data for nodes in the HemeMap. From the HemeMap we iterate through each node and see if its present in the pathway database(combined KEGG, Reactome and WikiPathways). If the node is present we try to get the edge data corresponding to that node."
   ]
  },
  {
   "cell_type": "code",
   "execution_count": 1,
   "metadata": {
    "pycharm": {}
   },
   "outputs": [],
   "source": [
    "import os\n",
    "import sys\n",
    "import time\n",
    "import pybel\n",
    "import logging\n",
    "import pybel_tools\n",
    "\n",
    "from pybel_jupyter import to_jupyter # Visualize network\n",
    "from pybel.struct.mutation import collapse_all_variants, collapse_to_genes\n",
    "import matplotlib.pyplot as plt\n",
    "from matplotlib_venn import venn2, venn3, venn2_unweighted, venn3_unweighted\n",
    "\n",
    "from bio2bel_kegg import Manager as KeggManager\n",
    "from bio2bel_reactome import Manager as ReactomeManager\n",
    "from bio2bel_wikipathways import Manager as WikipathwaysManager\n",
    "from pybel.constants import ANNOTATIONS, RELATION\n",
    "from collections import Counter, defaultdict\n",
    "\n",
    "import heme_knowledge"
   ]
  },
  {
   "cell_type": "code",
   "execution_count": 2,
   "metadata": {
    "pycharm": {}
   },
   "outputs": [
    {
     "data": {
      "text/plain": [
       "'3.7.3 (default, Mar 27 2019, 17:13:21) [MSC v.1915 64 bit (AMD64)]'"
      ]
     },
     "execution_count": 2,
     "metadata": {},
     "output_type": "execute_result"
    }
   ],
   "source": [
    "sys.version"
   ]
  },
  {
   "cell_type": "code",
   "execution_count": 3,
   "metadata": {
    "pycharm": {}
   },
   "outputs": [
    {
     "data": {
      "text/plain": [
       "'Sat Jun  8 21:36:59 2019'"
      ]
     },
     "execution_count": 3,
     "metadata": {},
     "output_type": "execute_result"
    }
   ],
   "source": [
    "time.asctime()"
   ]
  },
  {
   "cell_type": "code",
   "execution_count": 4,
   "metadata": {
    "pycharm": {}
   },
   "outputs": [
    {
     "data": {
      "text/plain": [
       "'0.13.2'"
      ]
     },
     "execution_count": 4,
     "metadata": {},
     "output_type": "execute_result"
    }
   ],
   "source": [
    "pybel.get_version()"
   ]
  },
  {
   "cell_type": "code",
   "execution_count": 5,
   "metadata": {
    "pycharm": {}
   },
   "outputs": [],
   "source": [
    "merged_network = heme_knowledge.get_graph()"
   ]
  },
  {
   "cell_type": "code",
   "execution_count": 6,
   "metadata": {
    "pycharm": {}
   },
   "outputs": [
    {
     "name": "stdout",
     "output_type": "stream",
     "text": [
      "Heme Curation v0.0.1-dev\n",
      "Number of Nodes: 764\n",
      "Number of Edges: 2999\n",
      "Number of Citations: 46\n",
      "Number of Authors: 330\n",
      "Network Density: 5.14E-03\n",
      "Number of Components: 11\n",
      "Number of Warnings: 0\n"
     ]
    }
   ],
   "source": [
    "merged_network.summarize()"
   ]
  },
  {
   "cell_type": "code",
   "execution_count": 7,
   "metadata": {
    "pycharm": {}
   },
   "outputs": [],
   "source": [
    "collapse_to_genes(merged_network) #collapsing all proteins to genes for the sake of simplification and to map it on to the pathway graph"
   ]
  },
  {
   "cell_type": "code",
   "execution_count": 8,
   "metadata": {
    "pycharm": {}
   },
   "outputs": [],
   "source": [
    "universe = pybel.from_pickle(\"C:/Users/syedf/.pathme/universe/pathme_universe_bel_graph.bel.pickle\")"
   ]
  },
  {
   "cell_type": "code",
   "execution_count": 9,
   "metadata": {
    "pycharm": {}
   },
   "outputs": [
    {
     "name": "stdout",
     "output_type": "stream",
     "text": [
      "PathMe Universe v1.0.0\n",
      "Number of Nodes: 32772\n",
      "Number of Edges: 136771\n",
      "Number of Citations: 6975\n",
      "Number of Authors: 0\n",
      "Network Density: 1.27E-04\n",
      "Number of Components: 7024\n",
      "Number of Warnings: 0\n"
     ]
    }
   ],
   "source": [
    "universe.summarize()"
   ]
  },
  {
   "cell_type": "code",
   "execution_count": 10,
   "metadata": {
    "pycharm": {}
   },
   "outputs": [],
   "source": [
    "pathway_merged = set(\n",
    "    node.name\n",
    "    for node in universe.nodes()\n",
    "    if isinstance(node, pybel.dsl.BaseAbundance)\n",
    ")"
   ]
  },
  {
   "cell_type": "code",
   "execution_count": 11,
   "metadata": {
    "pycharm": {}
   },
   "outputs": [],
   "source": [
    "heme_model_names = set(\n",
    "    node.name\n",
    "    for node in merged_network.nodes()\n",
    "    if isinstance(node, pybel.dsl.BaseAbundance)\n",
    ")\n"
   ]
  },
  {
   "cell_type": "code",
   "execution_count": 12,
   "metadata": {
    "pycharm": {}
   },
   "outputs": [],
   "source": [
    "overlap = pathway_merged.intersection(heme_model_names)"
   ]
  },
  {
   "cell_type": "code",
   "execution_count": 13,
   "metadata": {
    "pycharm": {}
   },
   "outputs": [
    {
     "data": {
      "text/plain": [
       "149"
      ]
     },
     "execution_count": 13,
     "metadata": {},
     "output_type": "execute_result"
    }
   ],
   "source": [
    "len(overlap)"
   ]
  },
  {
   "cell_type": "markdown",
   "metadata": {
    "pycharm": {}
   },
   "source": [
    "### Venn diagrams of nodes evluating similarity across the overlaped networks"
   ]
  },
  {
   "cell_type": "code",
   "execution_count": 14,
   "metadata": {
    "pycharm": {}
   },
   "outputs": [
    {
     "data": {
      "image/png": "[encoded data removed]",
      "text/plain": [
       "<Figure size 720x720 with 1 Axes>"
      ]
     },
     "metadata": {},
     "output_type": "display_data"
    }
   ],
   "source": [
    "plt.figure(figsize=(10, 10))\n",
    "out = venn2_unweighted([pathway_merged, heme_model_names], set_labels = ('Pathway Databases', 'Heme Network'))\n",
    "\n",
    "for text in out.set_labels:\n",
    "    text.set_fontsize(24)\n",
    "for text in out.subset_labels:\n",
    "    text.set_fontsize(24)\n",
    "    \n",
    "plt.title('Overlap between pathway databases and heme network\\n', fontsize=30)\n",
    "        \n",
    "out.get_patch_by_id('10').set_color('#5cb85c')\n",
    "out.get_patch_by_id('01').set_color('#df3f18')\n",
    "out.get_patch_by_id('11').set_color('#f3ac1f')\n",
    "out.get_patch_by_id('10').set_alpha(1.0)\n",
    "out.get_patch_by_id('01').set_alpha(1.0)\n",
    "out.get_patch_by_id('11').set_alpha(0.8)\n",
    "\n",
    "plt.savefig('C:/Users/syedf/OneDrive/Thesis/ThesisLatex_Farah/img/global_overlap.png', dpi=300, bbox_inches='tight')\n",
    "\n",
    "plt.show()\n"
   ]
  },
  {
   "cell_type": "code",
   "execution_count": 15,
   "metadata": {
    "pycharm": {}
   },
   "outputs": [
    {
     "data": {
      "text/plain": [
       "{'2-(2-amino-3-methoxyphenyl)chromen-4-one',\n",
       " \"3',5'-cyclic GMP\",\n",
       " '3-nitrotyrosine',\n",
       " '4-hydroxynon-2-enal',\n",
       " '5,6-epoxycholesterol',\n",
       " 'ABO-incompatible erythrocytes',\n",
       " 'ADAMTS13',\n",
       " 'ALAD',\n",
       " 'ALB',\n",
       " 'AMBP',\n",
       " 'ANXA5',\n",
       " 'APP',\n",
       " 'ARG1',\n",
       " 'ATP',\n",
       " 'Abnormality of blood circulation',\n",
       " 'Acta2',\n",
       " 'Acute Chest Syndrome',\n",
       " 'Acute Kidney Injury',\n",
       " 'Acute Lung Injury',\n",
       " 'Acute kidney injury',\n",
       " 'Adenosine Diphosphate',\n",
       " 'Alarmins',\n",
       " 'Alb',\n",
       " 'Aldehydes',\n",
       " 'Anemia',\n",
       " 'Anemia, Sickle Cell',\n",
       " 'Anemia, acute',\n",
       " 'Anemia, subacute',\n",
       " 'Antibody Specificity',\n",
       " 'Apoptosis',\n",
       " 'Arginase',\n",
       " 'Arterial occlusion',\n",
       " 'Arterial thrombosis',\n",
       " 'Arthritis',\n",
       " 'Atheroma lipid',\n",
       " 'Atheromatous lesions',\n",
       " 'Atherosclerosis',\n",
       " 'Atypical Hemolytic Uremic Syndrome',\n",
       " 'BACH1',\n",
       " 'Bach1',\n",
       " 'Bacterial Load',\n",
       " 'Biliverdine',\n",
       " 'Blood Coagulation',\n",
       " 'Blood Coagulation Disorders',\n",
       " 'Blood Flow Velocity',\n",
       " 'Blood Gas Monitoring, Transcutaneous',\n",
       " 'Blood Group Incompatibility',\n",
       " 'Blood Loss, Surgical',\n",
       " 'Blood Platelets',\n",
       " 'Blood Pressure',\n",
       " 'Blood Substitutes',\n",
       " 'Blood Transfusion',\n",
       " 'Blood Transfusion, Acute',\n",
       " 'Blood Transfusion, Chronic',\n",
       " 'Blood Viscosity',\n",
       " 'Blvrb',\n",
       " 'Bmp4',\n",
       " 'Brain Diseases',\n",
       " 'Brain Edema',\n",
       " 'C1q',\n",
       " 'C3',\n",
       " 'CASP1',\n",
       " 'CCL2',\n",
       " 'CD14',\n",
       " 'CD163',\n",
       " 'CD40LG',\n",
       " 'CD46',\n",
       " 'CD47',\n",
       " 'CD55',\n",
       " 'CD59',\n",
       " 'CD86',\n",
       " 'CDH5',\n",
       " 'CFB',\n",
       " 'CFD',\n",
       " 'CFH',\n",
       " 'CXCL10',\n",
       " 'CXCL8',\n",
       " 'CaMKII_AD',\n",
       " 'Calcium',\n",
       " 'Calcium Homeostasis',\n",
       " 'Calcium Signaling',\n",
       " 'Cardiovascular Infections',\n",
       " 'Carotid Artery, Internal',\n",
       " 'Casp1',\n",
       " 'Catalase',\n",
       " 'Ccl2',\n",
       " 'Ccl5',\n",
       " 'Cd163',\n",
       " 'Cdc42',\n",
       " 'Cell Adhesion',\n",
       " 'Cell Adhesion Molecules',\n",
       " 'Cell Death',\n",
       " 'Cell Degranulation',\n",
       " 'Cell Membrane Permeability',\n",
       " 'Cell Movement',\n",
       " 'Cell Proliferation',\n",
       " 'Cell Survival',\n",
       " 'Cell-Derived Microparticles',\n",
       " 'Cerebral Hemorrhage',\n",
       " 'Chemokines',\n",
       " 'Chronic kidney disease',\n",
       " 'Clot Retraction',\n",
       " 'Col1a1',\n",
       " 'Complement C3a',\n",
       " 'Complement C5a',\n",
       " 'Complement Membrane Attack Complex',\n",
       " 'Congenital hemolytic anemia',\n",
       " 'Cox4i1',\n",
       " 'Csf1',\n",
       " 'Cubn',\n",
       " 'Cxcl1',\n",
       " 'Cytokines',\n",
       " 'Cytotoxicity, Immunologic',\n",
       " 'D-1,4-dithiothreitol',\n",
       " 'DNAJB1',\n",
       " 'Death',\n",
       " 'Deep venous thrombosis',\n",
       " 'Diabetes mellitus',\n",
       " 'Diaph3',\n",
       " 'Dilatation',\n",
       " 'Disseminated Intravascular Coagulation',\n",
       " 'Dock8',\n",
       " 'EIF2AK1',\n",
       " 'ELANE',\n",
       " 'ENG',\n",
       " 'EPO',\n",
       " 'Eicosanoids',\n",
       " 'Eif2ak1',\n",
       " 'Elevated mean arterial pressure',\n",
       " 'Elevated transferrin saturation',\n",
       " 'Endocytosis',\n",
       " 'Endothelial dysfunction',\n",
       " 'Epo',\n",
       " 'Erfe',\n",
       " 'Eryptosis',\n",
       " 'Erythroblasts',\n",
       " 'Erythrocyte Aggregation',\n",
       " 'Erythrocyte Count',\n",
       " 'Erythrocyte Deformability',\n",
       " 'Erythrocyte Indices',\n",
       " 'Erythrocyte Volume',\n",
       " 'Erythrocytes',\n",
       " 'Erythrocytes, Abnormal',\n",
       " 'Erythrocytes, lysed',\n",
       " 'Erythropoiesis',\n",
       " 'Extracellular Traps',\n",
       " 'F10',\n",
       " 'F13A1',\n",
       " 'F13B',\n",
       " 'F2',\n",
       " 'F3',\n",
       " 'F5',\n",
       " 'F7',\n",
       " 'F8',\n",
       " 'FGA',\n",
       " 'FLT1',\n",
       " 'FPN1',\n",
       " 'FTH1',\n",
       " 'FTL',\n",
       " 'Ferritin',\n",
       " 'Fetal Hemoglobin',\n",
       " 'Fever',\n",
       " 'Fibrin',\n",
       " 'Fibrinogen',\n",
       " 'Fibrinolysis',\n",
       " 'Fibrosis',\n",
       " 'Flvcr1',\n",
       " 'Free Radicals',\n",
       " 'Fth1',\n",
       " 'Ftl1',\n",
       " 'GSHPx',\n",
       " 'GSR',\n",
       " 'Gapdh',\n",
       " 'Gclc',\n",
       " 'Genetic Markers',\n",
       " 'Glomerular Filtration Barrier',\n",
       " 'Glomerular Filtration Rate',\n",
       " 'Gluconeogenesis',\n",
       " 'Glucose Oxidase',\n",
       " 'Glucose-6-phosphate dehydrogenase',\n",
       " 'Glucose-6-phosphate dehydrogenase deficiency',\n",
       " 'Glucose-Galactose Malabsorption',\n",
       " 'Glutathione Peroxidase',\n",
       " 'Glutathione Transferase family',\n",
       " 'Glycogenolysis',\n",
       " 'Got1',\n",
       " 'Gp6',\n",
       " 'Gpt',\n",
       " 'Gsr',\n",
       " 'Guillain-Barre Syndrome',\n",
       " 'HAMP',\n",
       " 'HBB',\n",
       " 'HIF1A',\n",
       " 'HMOX1',\n",
       " 'HP',\n",
       " 'HPX',\n",
       " 'HRG',\n",
       " 'HSPA1A',\n",
       " 'HSPA1B',\n",
       " 'HSPA4',\n",
       " 'HSPA5',\n",
       " 'HSPE1',\n",
       " 'HSPH1',\n",
       " 'Hamp',\n",
       " 'Havcr1',\n",
       " 'Hbb-b1',\n",
       " 'Heart Failure',\n",
       " 'Hematocrit',\n",
       " 'Hematoma',\n",
       " 'Hematopoiesis, Extramedullary',\n",
       " 'Heme cytotoxicity',\n",
       " 'Hemeproteins',\n",
       " 'Hemochromatosis',\n",
       " 'Hemodilution',\n",
       " 'Hemodynamics',\n",
       " 'Hemoglobinuria',\n",
       " 'Hemolysis',\n",
       " 'Hemolytic anemia',\n",
       " 'Hemolytic-uremic syndrome',\n",
       " 'Hemorrhage',\n",
       " 'Hemosiderin',\n",
       " 'Hemostasis',\n",
       " 'Hif1a',\n",
       " 'Hmgb1',\n",
       " 'Hmox1',\n",
       " 'Hp',\n",
       " 'Hpx',\n",
       " 'Hrg',\n",
       " 'Hspa2',\n",
       " 'Hydrocephalus',\n",
       " 'Hydroxyapatites',\n",
       " 'Hydroxyl Radical',\n",
       " 'Hypercoagulability',\n",
       " 'Hyperlipidemias',\n",
       " 'Hypertension',\n",
       " 'Hyperventilation',\n",
       " 'Hypoglycemia',\n",
       " 'Hypotension',\n",
       " 'Hypothermia',\n",
       " 'Hypoxia',\n",
       " 'ICAM1',\n",
       " 'IL10',\n",
       " 'IL15',\n",
       " 'IL1B',\n",
       " 'IL6',\n",
       " 'ITGB3',\n",
       " 'Icam1',\n",
       " 'IgG immunoglobulin complex',\n",
       " 'Il1b',\n",
       " 'Il6',\n",
       " 'Immunity, Innate',\n",
       " 'Immunomodulation',\n",
       " 'Immunothrombosis',\n",
       " 'Impaired microcirculation',\n",
       " 'Impaired myocardial contractility',\n",
       " 'Infection',\n",
       " 'Inflammasomes',\n",
       " 'Inflammation',\n",
       " 'Insulin Resistance',\n",
       " 'Intraventricular hemorrhage',\n",
       " 'Iron',\n",
       " 'Iron Chelating Agents',\n",
       " 'Ischemia',\n",
       " 'Kidney',\n",
       " 'Kidney Diseases',\n",
       " 'Kidney Failure, Chronic',\n",
       " 'Knee Injuries',\n",
       " 'L-arginine',\n",
       " 'L-lactate dehydrogenase',\n",
       " 'LRP1',\n",
       " 'Labile iron',\n",
       " 'Lcn2',\n",
       " 'Lectin_C',\n",
       " 'Left ventricular systolic dysfunction',\n",
       " 'Leukocidin',\n",
       " 'Leukocyte Count',\n",
       " 'Leukocytes',\n",
       " 'Leukocytosis',\n",
       " 'Leukopenia',\n",
       " 'Lipid Peroxidation',\n",
       " 'Lipid Peroxides',\n",
       " 'Lipopolysaccharides',\n",
       " 'Liver',\n",
       " 'Lrp1',\n",
       " 'Luciferases',\n",
       " 'Lung Injury',\n",
       " 'Lupus Coagulation Inhibitor',\n",
       " 'Ly76',\n",
       " 'Lymph Nodes',\n",
       " 'Lymphocytes',\n",
       " 'Lysophospholipids',\n",
       " 'MAPK1',\n",
       " 'MAPK8',\n",
       " 'MHC Class II Complex',\n",
       " 'MRC1',\n",
       " 'MYD88',\n",
       " 'MYH9',\n",
       " 'Macrophage Activation',\n",
       " 'Malaria',\n",
       " 'Mapk1',\n",
       " 'Mb',\n",
       " 'Megakaryocytes',\n",
       " 'Microangiopathic hemolytic anemia',\n",
       " 'Mitochondrial Diseases',\n",
       " 'Mitogen-Activated Protein Kinases',\n",
       " 'Mki67',\n",
       " 'Mmp12',\n",
       " 'Mmp13',\n",
       " 'Mmp9',\n",
       " 'Monocyte-platelet aggregation',\n",
       " 'Monocytes',\n",
       " 'Monocyte–platelet aggregation',\n",
       " 'Morbidity',\n",
       " 'Mortality',\n",
       " 'Multiple Organ Failure',\n",
       " 'Myocardial infarction',\n",
       " \"N,N,N',N'-tetrakis(2-pyridylmethyl)ethylenediamine\",\n",
       " 'N-acetyl-L-cysteine',\n",
       " 'NADPH',\n",
       " 'NADPH Oxidase',\n",
       " 'NEAT domain',\n",
       " 'NFKB1',\n",
       " 'NLRP3',\n",
       " 'NOD1',\n",
       " 'NOD2',\n",
       " 'NOS3',\n",
       " 'NO_synthase',\n",
       " 'NR1H2',\n",
       " 'Necrosis',\n",
       " 'Neurogenic Inflammation',\n",
       " 'Neutrophil Activation',\n",
       " 'Neutrophils',\n",
       " 'Nfkb1',\n",
       " 'Nitric Oxide Synthase',\n",
       " 'Nitric oxide scavenging',\n",
       " 'Nlrp3',\n",
       " 'Obesity',\n",
       " 'Organ Dysfunction',\n",
       " 'Osmotic Fragility',\n",
       " 'Osteoarthritis',\n",
       " 'Osteoarthritis, Knee',\n",
       " 'Oxidative Stress',\n",
       " 'Oxidative damage',\n",
       " 'P2rx4',\n",
       " 'P2rx7',\n",
       " 'PDGF',\n",
       " 'PDPK1',\n",
       " 'PRDX2',\n",
       " 'PRTN3',\n",
       " 'PTGS2',\n",
       " 'Pain',\n",
       " 'Paroxysmal nocturnal hemoglobinuria',\n",
       " 'Partial Pressure',\n",
       " 'Pathogen Associated Molecular Pattern',\n",
       " 'Peptidase M10A',\n",
       " 'Peroxidase',\n",
       " 'Phagocytosis',\n",
       " 'Phospholipase C beta',\n",
       " 'Pkinase_C',\n",
       " 'Plaque, Atherosclerotic',\n",
       " 'Plasmodium',\n",
       " 'Platelet Activation',\n",
       " 'Platelet Adhesiveness',\n",
       " 'Platelet Aggregation',\n",
       " 'Platelet Count',\n",
       " 'Platelet margination',\n",
       " 'Pln',\n",
       " 'Pneumonia',\n",
       " 'Polycythemia Vera',\n",
       " 'Polyradiculoneuropathy, Chronic Inflammatory Demyelinating',\n",
       " 'Pore Forming Cytotoxic Proteins',\n",
       " 'Porphyria, Erythropoietic',\n",
       " 'Portal vein thrombosis',\n",
       " 'Prdx1',\n",
       " 'Prdx2',\n",
       " 'Prdx3',\n",
       " 'Prdx4',\n",
       " 'Prdx5',\n",
       " 'Prdx6',\n",
       " 'Pre-Eclampsia',\n",
       " 'Preeclampsia',\n",
       " 'Proteasome',\n",
       " 'Proteasome Inhibitors',\n",
       " 'Protein Carbonylation',\n",
       " 'Protein Kinase C',\n",
       " 'Protein carbonyls',\n",
       " 'Proteinuria',\n",
       " 'Pseudopodia',\n",
       " 'Pulmonary Edema',\n",
       " 'Pulmonary Embolism',\n",
       " 'Purpura, Thrombotic Thrombocytopenic',\n",
       " 'Pycard',\n",
       " 'Pyruvate Kinase Deficiency of Red Cells',\n",
       " 'RIPK1',\n",
       " 'RIPK3',\n",
       " 'ROCK1',\n",
       " 'Reactive Nitrogen Species',\n",
       " 'Reactive Oxygen Species',\n",
       " 'Regional Blood Flow',\n",
       " 'Renal Blood Flow, limited',\n",
       " 'Reperfusion Injury',\n",
       " 'Reticulocytes',\n",
       " 'Rh incompatibility',\n",
       " 'Rhabdomyolysis',\n",
       " 'Ryr2',\n",
       " 'SELE',\n",
       " 'SELL',\n",
       " 'SELP',\n",
       " 'SERPINA1',\n",
       " 'SIRPA',\n",
       " 'SLC48A1',\n",
       " 'SOD1',\n",
       " 'SOD2',\n",
       " 'SYK',\n",
       " 'Salivary Glands',\n",
       " 'Sele',\n",
       " 'Sepsis',\n",
       " 'Serpina1a',\n",
       " 'Shock, Septic',\n",
       " 'Shock, Traumatic',\n",
       " 'Siglec1',\n",
       " 'Slc11a2',\n",
       " 'Slc40a1',\n",
       " 'Slc48a1',\n",
       " 'Sod1',\n",
       " 'Spherocytosis, Hereditary',\n",
       " 'Spic',\n",
       " 'Spleen',\n",
       " 'Splenectomy',\n",
       " 'Sqstm1',\n",
       " 'Stomatocytosis',\n",
       " 'Stroke',\n",
       " 'Syp',\n",
       " 'Systemic Inflammatory Response Syndrome',\n",
       " 'TEMPO',\n",
       " 'TF',\n",
       " 'TFRC',\n",
       " 'TICAM1',\n",
       " 'TLR2',\n",
       " 'TLR3',\n",
       " 'TLR4',\n",
       " 'TLR5',\n",
       " 'TLR6',\n",
       " 'TLR9',\n",
       " 'TNF',\n",
       " 'Tachycardia',\n",
       " 'Tfrc',\n",
       " 'Tgfb1',\n",
       " 'Thalassemia',\n",
       " 'Thiobarbituric Acid Reactive Substances',\n",
       " 'Thioredoxin reductase',\n",
       " 'Thrombin',\n",
       " 'Thrombocytopenia',\n",
       " 'Thromboembolism',\n",
       " 'Thrombophilia',\n",
       " 'Thrombophlebitis',\n",
       " 'Thrombosis',\n",
       " 'Thrombotic Microangiopathies',\n",
       " 'Thrombus',\n",
       " 'Timp2',\n",
       " 'Tlr4',\n",
       " 'Tnf',\n",
       " 'Toxic Actions',\n",
       " 'Transfusion Reaction',\n",
       " 'Treml4',\n",
       " 'Trf',\n",
       " 'Tricuspid Valve Insufficiency',\n",
       " 'Trolox',\n",
       " 'Txn1',\n",
       " 'Txnrd1',\n",
       " 'Txnrd2',\n",
       " 'Txnrd3',\n",
       " 'Unfolded Protein Response',\n",
       " 'VCAM1',\n",
       " 'VIM',\n",
       " 'VWF',\n",
       " 'Vascular Diseases',\n",
       " 'Vascular System Injuries',\n",
       " 'Vasoconstriction',\n",
       " 'Vasodilation',\n",
       " 'Vcam1',\n",
       " 'Venous Thromboembolism',\n",
       " 'Venous Thrombosis',\n",
       " 'Venous thrombosis',\n",
       " 'Vwf',\n",
       " 'Weibel Palade body degranulation',\n",
       " 'Whole Blood Coagulation Time',\n",
       " 'Wound Healing',\n",
       " 'XBP1',\n",
       " 'acetylcysteine',\n",
       " 'actin cytoskeleton reorganization',\n",
       " 'acute hemolytic transfusion reaction',\n",
       " 'adenosine triphosphate',\n",
       " 'aging',\n",
       " 'alkoxyl radical',\n",
       " 'allopurinol',\n",
       " 'alpha-tocopherol',\n",
       " 'antioxidant',\n",
       " 'apocynin',\n",
       " 'apoptotic process',\n",
       " 'argatroban',\n",
       " 'arginine',\n",
       " 'atherosclerosis',\n",
       " 'autoimmune hemolytic anemia',\n",
       " 'beta-Thalassemia',\n",
       " 'bilirubin',\n",
       " 'biliverdin',\n",
       " 'bleeding',\n",
       " 'blood coagulation, extrinsic pathway',\n",
       " 'blood coagulation, fibrin clot formation',\n",
       " 'cadmium',\n",
       " 'carbon monoxide',\n",
       " 'carbonyl group',\n",
       " 'cell and tissue damage',\n",
       " 'cell death',\n",
       " 'cell migration',\n",
       " 'cell proliferation',\n",
       " 'cellular homeostasis',\n",
       " 'cellular respiration',\n",
       " 'cellular response to oxidative stress',\n",
       " 'ceramide',\n",
       " 'cholesterol',\n",
       " 'complement activation',\n",
       " 'complement activation, alternative pathway',\n",
       " 'complement activation, classical pathway',\n",
       " 'coproporphyrin',\n",
       " 'creatinine',\n",
       " 'cytolysin',\n",
       " 'cytolysis',\n",
       " 'cytoskeletal reorganization',\n",
       " 'deoxyhemoglobin',\n",
       " 'deoxyribonucleic acid',\n",
       " 'desferrioxamine B',\n",
       " 'dibenziodolium',\n",
       " 'diferric transferrin',\n",
       " 'dioxygen',\n",
       " 'dityrosine',\n",
       " 'eculizumab',\n",
       " 'endothelial cell activation',\n",
       " 'endothelial lesions',\n",
       " 'enflurane',\n",
       " 'engulfment of apoptotic cell',\n",
       " 'eptifibatide',\n",
       " 'erythrocyte apoptotic process',\n",
       " 'erythrocyte differentiation',\n",
       " 'erythrocyte enucleation',\n",
       " 'erythrocyte-endothelium adhesion',\n",
       " 'erythrocyte-platelet adhesion',\n",
       " 'erythrophagocytosis',\n",
       " 'ethyl 6-(N-(2-chloro-4-fluorophenyl)sulfamoyl)cyclohex-1-ene-1-carboxylate',\n",
       " 'ferrihemoglobin',\n",
       " 'ferrylhemoglobin',\n",
       " 'fibrin deposition',\n",
       " 'fibrin monomer cross-linking',\n",
       " 'glucose',\n",
       " 'glucose catabolic process',\n",
       " 'glucose metabolic process',\n",
       " 'glutathione',\n",
       " 'granulocyte activation',\n",
       " 'halothane',\n",
       " 'haptoglobin-hemoglobin complex',\n",
       " 'heme',\n",
       " 'heme catabolic process',\n",
       " 'heme oxidation',\n",
       " 'heme transport',\n",
       " 'heme-NO species',\n",
       " 'heme-iron recycling',\n",
       " 'hemin',\n",
       " 'hemoglobin beta-93-cysteine',\n",
       " 'hemozoin',\n",
       " 'hydrogen peroxide',\n",
       " 'hydroperoxide',\n",
       " 'hydroperoxyl',\n",
       " 'inflammatory response',\n",
       " 'iron coordination entity',\n",
       " 'iron ion homeostasis',\n",
       " 'iron trichloride',\n",
       " 'iron(2+)',\n",
       " 'isoflurane',\n",
       " 'keratinocyte-derived chemokines',\n",
       " 'lactate',\n",
       " 'lead nitrate',\n",
       " 'lead(2+)',\n",
       " 'lecithin',\n",
       " 'leukocyte activation',\n",
       " 'leukocyte adhesion to vascular endothelial cell',\n",
       " 'leukocyte migration',\n",
       " 'leukocyte migration involved in inflammatory response',\n",
       " 'leukotriene B4',\n",
       " 'lipid A',\n",
       " 'lipid homeostasis',\n",
       " 'lipid hydroperoxide',\n",
       " 'lipopolysaccharide',\n",
       " 'low-density lipoprotein',\n",
       " 'macrophage',\n",
       " 'macrophage M1 polarization',\n",
       " 'macrophage apoptotic process',\n",
       " 'malonaldehyde',\n",
       " 'methemoglobin',\n",
       " 'microvascular stasis',\n",
       " 'mitochondrial depolarization',\n",
       " 'mitochondrial respiratory chain complex IV',\n",
       " 'monounsaturated fatty acid',\n",
       " 'necroptotic process',\n",
       " 'necrostatin-1',\n",
       " 'neutrophil activation',\n",
       " 'neutrophil apoptotic process',\n",
       " 'neutrophil migration',\n",
       " 'nitrate',\n",
       " 'nitric oxide',\n",
       " 'nitric oxide consumption',\n",
       " 'nitric oxide mediated signal transduction',\n",
       " 'nitric oxide storage',\n",
       " 'nitric oxide-cGMP-mediated signaling pathway',\n",
       " 'nitrite',\n",
       " 'nitrite oxidation',\n",
       " 'ornithine',\n",
       " 'oxidative modification of atheroma lipid',\n",
       " 'oxidative reactions',\n",
       " 'oxidised LDL',\n",
       " 'oxygen radical',\n",
       " 'oxyhemoglobin',\n",
       " 'oxysterol',\n",
       " 'permeability of fibrin',\n",
       " 'peroxynitrite',\n",
       " 'phagocytosis',\n",
       " 'phosphatidyl-L-serine',\n",
       " 'platelet activation',\n",
       " 'positive regulation of membrane permeability',\n",
       " 'positive regulation of vascular permeability',\n",
       " 'protein nitrosylation',\n",
       " 'protein oxidation',\n",
       " 'protoporphyrin',\n",
       " 'quinine',\n",
       " 'regulation of glucose-6-phosphatase activity',\n",
       " 'regulation of systemic arterial blood pressure',\n",
       " 'regulation of vascular permeability',\n",
       " 'relaxation of smooth muscle',\n",
       " 'renal stasis',\n",
       " 'ruptured complicated lesions',\n",
       " 'schistocytes',\n",
       " 'schistocytosis',\n",
       " 'shear stress',\n",
       " 'stored erythrocytes',\n",
       " 'superoxide',\n",
       " 'thioester',\n",
       " 'thiol',\n",
       " 'tin atom',\n",
       " 'tissue regeneration',\n",
       " 'ubiquitin',\n",
       " 'uroporphyrin',\n",
       " 'vaso-occlusive crisis',\n",
       " 'vasoconstriction',\n",
       " 'vasodilation',\n",
       " 'zinc protoporphyrin',\n",
       " 'zinc(2+)'}"
      ]
     },
     "execution_count": 15,
     "metadata": {},
     "output_type": "execute_result"
    }
   ],
   "source": [
    "heme_model_names"
   ]
  },
  {
   "cell_type": "code",
   "execution_count": 16,
   "metadata": {
    "pycharm": {}
   },
   "outputs": [],
   "source": [
    "common_names = list(pathway_merged.intersection(heme_model_names)) #see which names are common"
   ]
  },
  {
   "cell_type": "code",
   "execution_count": 17,
   "metadata": {
    "pycharm": {}
   },
   "outputs": [],
   "source": [
    "common_nodes = list(set(merged_network.nodes()).intersection(set(universe.nodes()))) #see which nodes are common"
   ]
  },
  {
   "cell_type": "code",
   "execution_count": 18,
   "metadata": {
    "pycharm": {}
   },
   "outputs": [
    {
     "data": {
      "text/plain": [
       "138"
      ]
     },
     "execution_count": 18,
     "metadata": {},
     "output_type": "execute_result"
    }
   ],
   "source": [
    "len(common_nodes)   "
   ]
  },
  {
   "cell_type": "code",
   "execution_count": 19,
   "metadata": {
    "pycharm": {}
   },
   "outputs": [],
   "source": [
    "kegg_manager = KeggManager()\n",
    "reactome_manager = ReactomeManager()\n",
    "wp_manager = WikipathwaysManager()"
   ]
  },
  {
   "cell_type": "code",
   "execution_count": 20,
   "metadata": {
    "pycharm": {}
   },
   "outputs": [],
   "source": [
    "def get_pathway_names_from_node(graph, node):\n",
    "    \n",
    "    pathway_ids = get_pathway_ids_from_node(graph, node)\n",
    "    \n",
    "    #print(f\"total of {len(pathway_ids)} found from graph\")\n",
    "\n",
    "    return get_pathway_names(pathway_ids)\n",
    "\n",
    "\n",
    "def get_pathway_ids_from_node(graph, node):\n",
    "    \"\"\"Get the pathways that the node participates in.\n",
    "    \n",
    "    :graph: Graph containing pathway annotations that you want\n",
    "    :node: node to look up coming from heme\n",
    "    \"\"\"\n",
    "    if node not in graph:\n",
    "        return None\n",
    "    \n",
    "    pathways = set()\n",
    "        \n",
    "    # Iterate through all the edges and check if the\n",
    "    for source, target, data in graph.edges(data=True):\n",
    "        if source == node or target == node:\n",
    "        \n",
    "            if ANNOTATIONS not in data:\n",
    "                continue\n",
    "            \n",
    "            pathways_in_edge = data[ANNOTATIONS][\"PathwayID\"]\n",
    "\n",
    "            for pathway in pathways_in_edge:\n",
    "                pathways.add(pathway.strip(\"_unflatten\"))\n",
    "    return pathways\n",
    "\n",
    "\n",
    "def get_pathway_names(pathway_ids):\n",
    "    \"\"\"Get the pathways that the node participates in.\n",
    "    \n",
    "    :graph: Graph containing pathway annotations that you want\n",
    "    :node: node to look up coming from heme\n",
    "    \"\"\"\n",
    "    \n",
    "    kegg_manager = KeggManager()\n",
    "    reactome_manager = ReactomeManager()\n",
    "    wp_manager = WikipathwaysManager()\n",
    "    \n",
    "    pathway_names = list()\n",
    "    \n",
    "    for pathway in pathway_ids:\n",
    "        \n",
    "        if pathway.startswith(\"R-HSA\"):\n",
    "            \n",
    "            pathway_object = reactome_manager.get_pathway_by_id(pathway)\n",
    "            \n",
    "            if not pathway_object:\n",
    "                print(f\"{pathway} not found\")\n",
    "                continue\n",
    "                \n",
    "            pathway_names.append(pathway_object.name)\n",
    "            \n",
    "        elif pathway.startswith(\"WP\"):\n",
    "            pathway_object = wp_manager.get_pathway_by_id(pathway)\n",
    "            \n",
    "            if not pathway_object:\n",
    "                print(f\"{pathway} not found\")\n",
    "                continue\n",
    "            \n",
    "            pathway_names.append(pathway_object.name)  #append the name for the id\n",
    "\n",
    "        \n",
    "        elif pathway.startswith(\"hsa\"):\n",
    "            pathway_object = kegg_manager.get_pathway_by_id(\"path:\"+pathway)\n",
    "            \n",
    "            if not pathway_object:\n",
    "                print(f\"{pathway} not found\")\n",
    "                continue\n",
    "\n",
    "            pathway_names.append(pathway_object.name)\n",
    "\n",
    "        else:\n",
    "            print(f\"{pathway} not found\")\n",
    "            \n",
    "    return pathway_names\n",
    "\n",
    "\n",
    "def get_pathways_from_nodes(graph, nodes):\n",
    "    \"\"\"This funtion makes a dictionary of node: pathway_names\"\"\"\n",
    "  \n",
    "    id_dic = {}\n",
    "    \n",
    "    for node in nodes:\n",
    "        id_dic[node] = get_pathway_names_from_node(graph, node)\n",
    "        \n",
    "    return id_dic\n"
   ]
  },
  {
   "cell_type": "markdown",
   "metadata": {
    "pycharm": {}
   },
   "source": [
    "Proportion of pathways match the number of pathways by resource"
   ]
  },
  {
   "cell_type": "code",
   "execution_count": 21,
   "metadata": {
    "pycharm": {}
   },
   "outputs": [
    {
     "name": "stdout",
     "output_type": "stream",
     "text": [
      "601 :are from KEGG\n",
      "998 :are from Reactome\n",
      "327 :are from Wikipathways\n"
     ]
    }
   ],
   "source": [
    "def get_pathways_from_nodes(graph, nodes):\n",
    "    \"\"\"This funtion makes a dictionary of node: pathway_names\"\"\"\n",
    "  \n",
    "    id_dic = {}\n",
    "    \n",
    "    for node in nodes: #nodes that are common in the merged pathways and heme model\n",
    "        id_dic[node] = get_pathway_ids_from_node(graph, node)\n",
    "        \n",
    "    return id_dic\n",
    "\n",
    "pathways_by_ids = get_pathways_from_nodes(universe, common_nodes)\n",
    "\n",
    "num_of_kegg_in_merged = 0\n",
    "num_of_reactome_in_merged = 0\n",
    "num_of_wikipathways_in_merged = 0\n",
    "\n",
    "for k, v in pathways_by_ids.items():\n",
    "    for pathway_id in v:\n",
    "        \n",
    "        if pathway_id.startswith('hsa'):\n",
    "            num_of_kegg_in_merged += 1\n",
    "        elif pathway_id.startswith('R-HSA'):\n",
    "            num_of_reactome_in_merged += 1\n",
    "        elif pathway_id.startswith('WP'):\n",
    "            num_of_wikipathways_in_merged += 1\n",
    "        else:\n",
    "            raise ValueError(f'Invalid pathway ID {pathway_id}.')\n",
    "\n",
    "total = (num_of_kegg_in_merged + num_of_reactome_in_merged + num_of_wikipathways_in_merged)\n",
    "            \n",
    "print(num_of_kegg_in_merged, \":are from KEGG\")\n",
    "print(num_of_reactome_in_merged, \":are from Reactome\")\n",
    "print(num_of_wikipathways_in_merged, \":are from Wikipathways\")"
   ]
  },
  {
   "cell_type": "code",
   "execution_count": 22,
   "metadata": {
    "pycharm": {}
   },
   "outputs": [
    {
     "data": {
      "image/png": "[encoded data removed]",
      "text/plain": [
       "<Figure size 720x288 with 1 Axes>"
      ]
     },
     "metadata": {},
     "output_type": "display_data"
    }
   ],
   "source": [
    "kegg = round(num_of_kegg_in_merged/total*100,2)\n",
    "reac = round(num_of_reactome_in_merged/total*100,2)\n",
    "wiki = round(num_of_wikipathways_in_merged/total*100,2)\n",
    "\n",
    "# Pie chart\n",
    "labels = ['KEGG', 'Reactome', 'Wikipathways']\n",
    "sizes = [kegg, reac, wiki]\n",
    "#add colors\n",
    "colors = ['#5cb85c','#df3f18','#f3ac1f']\n",
    "\n",
    "fig1, ax1 = plt.subplots(figsize=(10, 4))\n",
    "ax1.pie(sizes, labels=labels, autopct='%1.1f%%', colors=colors, startangle=80, textprops={'fontsize': 12})\n",
    "\n",
    "centre_circle = plt.Circle((0,0),0.35,fc='white')\n",
    "fig = plt.gcf()\n",
    "fig.gca().add_artist(centre_circle)\n",
    "plt.title('Proportion of pathways per database\\n', size = 16)\n",
    "  \n",
    "plt.savefig('C:/Users/syedf/OneDrive/Thesis/ThesisLatex_Farah/img/pathway_proportion.png', dpi=300, bbox_inches='tight')\n",
    "# Equal aspect ratio ensures that pie is drawn as a circle\n",
    "ax1.axis('equal')\n",
    "\n",
    "plt.show()"
   ]
  },
  {
   "cell_type": "code",
   "execution_count": 23,
   "metadata": {
    "pycharm": {}
   },
   "outputs": [],
   "source": [
    "mapping_pathway_ids = get_pathway_ids_from_node(universe, common_nodes[12])"
   ]
  },
  {
   "cell_type": "code",
   "execution_count": 24,
   "metadata": {
    "pycharm": {}
   },
   "outputs": [
    {
     "data": {
      "text/plain": [
       "{'R-HSA-75205'}"
      ]
     },
     "execution_count": 24,
     "metadata": {},
     "output_type": "execute_result"
    }
   ],
   "source": [
    "mapping_pathway_ids"
   ]
  },
  {
   "cell_type": "code",
   "execution_count": null,
   "metadata": {
    "pycharm": {}
   },
   "outputs": [],
   "source": []
  }
 ],
 "metadata": {
  "kernelspec": {
   "display_name": "Python 3",
   "language": "python",
   "name": "python3"
  },
  "language_info": {
   "codemirror_mode": {
    "name": "ipython",
    "version": 3
   },
   "file_extension": ".py",
   "mimetype": "text/x-python",
   "name": "python",
   "nbconvert_exporter": "python",
   "pygments_lexer": "ipython3",
   "version": "3.7.1"
  }
 },
 "nbformat": 4,
 "nbformat_minor": 2
}
