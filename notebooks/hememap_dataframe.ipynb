{
 "cells": [
  {
   "cell_type": "markdown",
   "metadata": {},
   "source": [
    "# Dataframe\n",
    "\n",
    "This notebook merges all the BEL files contained in the curation folder and gives dataframe for all entity and interaction types in HemeMap."
   ]
  },
  {
   "cell_type": "code",
   "execution_count": null,
   "metadata": {},
   "outputs": [],
   "source": [
    "import os\n",
    "import pybel\n",
    "\n",
    "from pybel.struct import union \n",
    "import pandas as pd\n",
    "from pandas.plotting import table\n",
    "import matplotlib.pyplot as plt\n",
    "\n",
    "from pybel.struct.summary import count_functions, edge_summary\n",
    "\n",
    "import heme_knowledge"
   ]
  },
  {
   "cell_type": "code",
   "execution_count": null,
   "metadata": {},
   "outputs": [],
   "source": [
    "HERE = os.path.abspath(os.path.dirname('__file__'))\n",
    "\n",
    "BEL_DIRECTORY = os.path.abspath(os.path.join(HERE, os.pardir, 'hememap'))\n",
    "\n",
    "def get_bel_files():\n",
    "    \"\"\"Return all bel files.\"\"\"\n",
    "    return [\n",
    "        os.path.join(BEL_DIRECTORY, filename)\n",
    "        for filename in os.listdir(BEL_DIRECTORY)\n",
    "    ]"
   ]
  },
  {
   "cell_type": "code",
   "execution_count": null,
   "metadata": {},
   "outputs": [],
   "source": [
    "def get_files_in_folder(path):\n",
    "    \"\"\"Return the files in a given folder.\n",
    "    :param path: folder path\n",
    "    :return: file names in folder\n",
    "    \"\"\"\n",
    "    return [\n",
    "        file for file in os.listdir(path)\n",
    "    ]"
   ]
  },
  {
   "cell_type": "code",
   "execution_count": null,
   "metadata": {},
   "outputs": [],
   "source": [
    "def get_bel_types(bel_path):\n",
    "    \"\"\"Get BEL node and edge type statistics.\n",
    "    :param str path: path to BEL graph\n",
    "    :return: count of all nodes and edges in a BEL graph\n",
    "    :rtype: dict\n",
    "    \"\"\"\n",
    "    bel_stats = {}\n",
    "    bel_graph = pybel.from_path(bel_path)\n",
    "    \n",
    "    bel_stats['nodes'] = bel_graph.number_of_nodes()\n",
    "    bel_stats['edges'] = bel_graph.number_of_edges()\n",
    "    print(bel_stats)\n",
    "\n",
    "    # Get count of all BEL function types\n",
    "    bel_functions_dict = count_functions(bel_graph)\n",
    "    bel_stats.update(bel_functions_dict)\n",
    "\n",
    "    # Get count of all BEL edge types\n",
    "    bel_edges_dict = edge_summary.count_relations(bel_graph)\n",
    "    bel_stats.update(bel_edges_dict)\n",
    "\n",
    "    return bel_stats"
   ]
  },
  {
   "cell_type": "code",
   "execution_count": null,
   "metadata": {},
   "outputs": [],
   "source": [
    "BEL_STATS_COLUMN_NAMES = {\n",
    "    'nodes': 'Nodes',\n",
    "    'edges': 'Edges',\n",
    "    'Protein': 'Proteins',\n",
    "    'Gene': 'Genes',\n",
    "    'RNA': 'RNA Entities',\n",
    "    'Complex': 'Complexes',\n",
    "    'Abundance': 'Compounds',\n",
    "    'BiologicalProcess': 'Biological Processes',\n",
    "    'Pathology':'Pathology',\n",
    "    'Reaction': 'Reactions',\n",
    "    'increases': 'Increase Relations',\n",
    "    'decreases': 'Decrease Relations',\n",
    "    'association': 'Association Relations',\n",
    "    'hasComponent': 'Component Edges',\n",
    "    'hasVariant': 'Variant Edges',\n",
    "    'hasReactant': 'Reactants Edges',\n",
    "    'hasProduct': 'Products Edges',\n",
    "    'positiveCorrelation':'Positive Correlation',\n",
    "    'negativeCorrelation':'Negative Correlation',\n",
    "    'causesNoChange':'CauseNoChange Relations',\n",
    "    'directlyIncreases':'Directly Increase Relations'\n",
    "\n",
    "}"
   ]
  },
  {
   "cell_type": "code",
   "execution_count": null,
   "metadata": {},
   "outputs": [],
   "source": [
    "def get_bel_stats(resource_folder):\n",
    "    \"\"\"Get all BEL node and edge type statistics.\n",
    "    :param str resource_folder: path to BEL folder\n",
    "    :return: count of all nodes and edges in all BEL graphs from one resource\n",
    "    :rtype: dict\n",
    "    \"\"\"\n",
    "    df = pd.DataFrame()\n",
    "    \n",
    "    files_list = get_files_in_folder(resource_folder)\n",
    "    for file in files_list:\n",
    "        pathway_names = []\n",
    "        pathway_names.append(file)\n",
    "\n",
    "        bel_statistics_dict = get_bel_types(os.path.join(resource_folder, file))\n",
    "\n",
    "        all_bel_statistics = {\n",
    "            BEL_STATS_COLUMN_NAMES[key]: value\n",
    "            for key, value in bel_statistics_dict.items()\n",
    "        }\n",
    "        print(all_bel_statistics)\n",
    "\n",
    "        # Add pathway statistic rows to DataFrame\n",
    "        pathway_data = pd.DataFrame(\n",
    "            all_bel_statistics,\n",
    "            index=pathway_names,\n",
    "            columns=BEL_STATS_COLUMN_NAMES.values(),\n",
    "            dtype=int\n",
    "        )\n",
    "\n",
    "        df = df.append(pathway_data.fillna(0).astype(int))\n",
    "\n",
    "    return df"
   ]
  },
  {
   "cell_type": "code",
   "execution_count": null,
   "metadata": {
    "scrolled": false
   },
   "outputs": [],
   "source": [
    "heme_statistics_df = get_bel_stats(BEL_DIRECTORY)"
   ]
  },
  {
   "cell_type": "code",
   "execution_count": null,
   "metadata": {
    "scrolled": false
   },
   "outputs": [],
   "source": [
    "heme_statistics_df"
   ]
  },
  {
   "cell_type": "code",
   "execution_count": null,
   "metadata": {},
   "outputs": [],
   "source": [
    "#heme_statistics_df.to_csv(\"heme_statistics.csv\", sep='\\t', encoding='utf-8')"
   ]
  }
 ],
 "metadata": {
  "kernelspec": {
   "display_name": "Python 3",
   "language": "python",
   "name": "python3"
  },
  "language_info": {
   "codemirror_mode": {
    "name": "ipython",
    "version": 3
   },
   "file_extension": ".py",
   "mimetype": "text/x-python",
   "name": "python",
   "nbconvert_exporter": "python",
   "pygments_lexer": "ipython3",
   "version": "3.7.1"
  }
 },
 "nbformat": 4,
 "nbformat_minor": 2
}
